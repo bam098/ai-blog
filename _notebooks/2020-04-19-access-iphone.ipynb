{
 "cells": [
  {
   "cell_type": "markdown",
   "metadata": {},
   "source": [
    "# Access iPhone Photos on Ubuntu\n",
    "> Accessing photos stored on an iPhone doesn't work out of the box under Ubuntu. This tutorial shows what needs to be done to access them. \n",
    "\n",
    "- badges: false\n",
    "- comments: false\n",
    "- author: bam098\n",
    "- categories: [iPhone, Ubuntu]"
   ]
  },
  {
   "cell_type": "markdown",
   "metadata": {},
   "source": [
    "I have an [iPhone SE](http://tiny.cc/83denz) that I also use to take pictures. These pictures should also be accessible on my laptop running Ubuntu 18.04 LTS, since I want to store them on a portable hard drive disk or I want to use them on my laptop for specific experiments. Unfortunately, accessing photos from an iPhone on Ubuntu does not work out of the box. However, I found this great [tutorial](https://www.maketecheasier.com/easily-mount-your-iphone-as-an-external-drive-in-ubuntu/) written by Ben Stockton that describes how you still can access iPhone photos on Ubuntu. In the following I will explain each step and the experience I made. If you rather want to follow the original tutorial, you can find it [here](https://www.maketecheasier.com/easily-mount-your-iphone-as-an-external-drive-in-ubuntu/)."
   ]
  },
  {
   "cell_type": "markdown",
   "metadata": {},
   "source": [
    "First of all, we need to install the [libimobiledevice](http://www.libimobiledevice.org/) library. This library makes it possible that our iPhone gets recognized by Ubuntu. "
   ]
  },
  {
   "cell_type": "code",
   "execution_count": null,
   "metadata": {},
   "outputs": [],
   "source": [
    "sudo apt install libimobiledevice6 libimobiledevice-utils"
   ]
  },
  {
   "cell_type": "markdown",
   "metadata": {},
   "source": [
    "Now you can connect the iPhone with your laptop using a USB cable. For some reason it was also important to unlock my phone after I plugged in the USB cable. However, then only something called `iPhone Documents` got mounted. I'm not sure what that is, but it doesn't give me access to the photos. Thus, I needed to paired my iPhone with my laptop using the following command."
   ]
  },
  {
   "cell_type": "code",
   "execution_count": null,
   "metadata": {},
   "outputs": [],
   "source": [
    "idevicepair pair"
   ]
  },
  {
   "cell_type": "markdown",
   "metadata": {},
   "source": [
    "This actually gave me an error."
   ]
  },
  {
   "cell_type": "markdown",
   "metadata": {},
   "source": [
    "    ERROR: Could not validate with device **** \n",
    "    because a passcode is set. Please enter the passcode on the device and retry."
   ]
  },
  {
   "cell_type": "markdown",
   "metadata": {},
   "source": [
    "The error tells us to allow the connection between the iPhone and Ubuntu first. To do this, we need to take our iPhone, which should display now whether we trust the connection request. We need to confirm this on the iPhone and type in our password. Now, we can try to pair the phone with Ubuntu again. Therefor, we need to go back to the laptop and run `idevicepair pair` again. This time we should get a success response."
   ]
  },
  {
   "cell_type": "markdown",
   "metadata": {},
   "source": [
    "    SUCCESS: Paired with device ****"
   ]
  },
  {
   "cell_type": "markdown",
   "metadata": {},
   "source": [
    "Next, we need to allow multiple connections between the iPhone and Ubuntu. To do this we can use [usbmuxd](https://www.theiphonewiki.com/wiki/Usbmux)."
   ]
  },
  {
   "cell_type": "code",
   "execution_count": null,
   "metadata": {},
   "outputs": [],
   "source": [
    "usbmuxd -f -v"
   ]
  },
  {
   "cell_type": "markdown",
   "metadata": {},
   "source": [
    "Then, we need to install [ifuse](http://manpages.ubuntu.com/manpages/xenial/man1/ifuse.1.html), which allows us to mount the file system of our iPhone on Ubuntu. "
   ]
  },
  {
   "cell_type": "code",
   "execution_count": null,
   "metadata": {},
   "outputs": [],
   "source": [
    "sudo apt-get install ifuse"
   ]
  },
  {
   "cell_type": "markdown",
   "metadata": {},
   "source": [
    "Now, we can mount the iPhone. To do this we need to specify where it should be mounted on our laptop. I created a new directory that I simply called `iphone` for this."
   ]
  },
  {
   "cell_type": "code",
   "execution_count": null,
   "metadata": {},
   "outputs": [],
   "source": [
    "sudo mkdir /media/iphone"
   ]
  },
  {
   "cell_type": "markdown",
   "metadata": {},
   "source": [
    "Then, we can mount the iPhone with `ifuse`."
   ]
  },
  {
   "cell_type": "code",
   "execution_count": null,
   "metadata": {},
   "outputs": [],
   "source": [
    "sudo ifuse /media/iphone"
   ]
  },
  {
   "cell_type": "markdown",
   "metadata": {},
   "source": [
    "Now, we should be able to access the files on the iPhone. We can take a look with the `ls` command."
   ]
  },
  {
   "cell_type": "code",
   "execution_count": null,
   "metadata": {},
   "outputs": [],
   "source": [
    "sudo ls /media/iphone"
   ]
  },
  {
   "cell_type": "markdown",
   "metadata": {},
   "source": [
    "It should list several folders. One of these folders should be called `DCIM`. This is the folder where our photos are stored. So, let's take a look into that folder using `ls`."
   ]
  },
  {
   "cell_type": "code",
   "execution_count": null,
   "metadata": {},
   "outputs": [],
   "source": [
    "sudo ls /media/iphone/DCIM"
   ]
  },
  {
   "cell_type": "markdown",
   "metadata": {},
   "source": [
    "We should see a list of several folders named `***APPLE` (e.g. `100APPLE`). Each of these folders contains some subset of our photos."
   ]
  },
  {
   "cell_type": "markdown",
   "metadata": {},
   "source": [
    "Additionally, if you also want to view your photos through a GUI-based program, you can use [shotwell](http://tiny.cc/bieenz) for instance. It should be pre-installed on Ubuntu. If it is not, then you can install it using the following command."
   ]
  },
  {
   "cell_type": "code",
   "execution_count": null,
   "metadata": {},
   "outputs": [],
   "source": [
    "sudo apt-get install shotwell"
   ]
  },
  {
   "cell_type": "markdown",
   "metadata": {},
   "source": [
    "Then, we can start `shotwell` over the terminal using `sudo`."
   ]
  },
  {
   "cell_type": "code",
   "execution_count": null,
   "metadata": {},
   "outputs": [],
   "source": [
    "sudo shotwell"
   ]
  },
  {
   "cell_type": "markdown",
   "metadata": {},
   "source": [
    "It was necessary to start `shotwell` this way, because starting it without `sudo` rights it didn't work for me to access the iPhone. `shotwell` should display our mounted `iphone` folder. When we click on it, it should automatically import the photos. If this doesn't happen, when can go to `File` and then `Import from Folder` in `shotwell` to important them manually."
   ]
  },
  {
   "cell_type": "markdown",
   "metadata": {},
   "source": [
    "When we are finished accessing our photos, we need to unmount the iPhone again before we disconnect it from the laptop. Ben Stockton describes in his tutorial that we can unmount using the command `ifuse -u /media/iphone`. However, this didn't work for me. I simply used the following."
   ]
  },
  {
   "cell_type": "code",
   "execution_count": null,
   "metadata": {},
   "outputs": [],
   "source": [
    "sudo umount /media/iphone"
   ]
  },
  {
   "cell_type": "markdown",
   "metadata": {},
   "source": [
    "Additionally, we might also unmount the `iPhone Documents` drive manually over [Nautilus](https://wiki.ubuntuusers.de/Nautilus/). Then, we can unplug our iPhone from our laptop and we are done!"
   ]
  },
  {
   "cell_type": "code",
   "execution_count": null,
   "metadata": {},
   "outputs": [],
   "source": []
  }
 ],
 "metadata": {
  "kernelspec": {
   "display_name": "Python 3",
   "language": "python",
   "name": "python3"
  },
  "language_info": {
   "codemirror_mode": {
    "name": "ipython",
    "version": 3
   },
   "file_extension": ".py",
   "mimetype": "text/x-python",
   "name": "python",
   "nbconvert_exporter": "python",
   "pygments_lexer": "ipython3",
   "version": "3.7.9"
  },
  "toc": {
   "base_numbering": 1,
   "nav_menu": {},
   "number_sections": true,
   "sideBar": true,
   "skip_h1_title": false,
   "title_cell": "Table of Contents",
   "title_sidebar": "Contents",
   "toc_cell": false,
   "toc_position": {},
   "toc_section_display": true,
   "toc_window_display": false
  },
  "varInspector": {
   "cols": {
    "lenName": 16,
    "lenType": 16,
    "lenVar": 40
   },
   "kernels_config": {
    "python": {
     "delete_cmd_postfix": "",
     "delete_cmd_prefix": "del ",
     "library": "var_list.py",
     "varRefreshCmd": "print(var_dic_list())"
    },
    "r": {
     "delete_cmd_postfix": ") ",
     "delete_cmd_prefix": "rm(",
     "library": "var_list.r",
     "varRefreshCmd": "cat(var_dic_list()) "
    }
   },
   "types_to_exclude": [
    "module",
    "function",
    "builtin_function_or_method",
    "instance",
    "_Feature"
   ],
   "window_display": false
  }
 },
 "nbformat": 4,
 "nbformat_minor": 4
}
