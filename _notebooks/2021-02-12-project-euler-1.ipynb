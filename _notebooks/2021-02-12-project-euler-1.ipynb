{
 "cells": [
  {
   "cell_type": "markdown",
   "id": "unknown-flavor",
   "metadata": {},
   "source": [
    "# Project Euler - Problem 1: Multiples of 3 and 5\n",
    "> A tutorial about how to solve problem 1 from Project Euler. \n",
    "\n",
    "- badges: false\n",
    "- comments: false\n",
    "- author: bam098\n",
    "- categories: [Project Euler, Math]"
   ]
  },
  {
   "cell_type": "markdown",
   "id": "accepting-incidence",
   "metadata": {},
   "source": [
    "I have decided to start with [Project Euler](https://projecteuler.net/). Project Euler is a website that collects mathematical problems for people who like to work on mathematics. I guess I am one of such people and I want to see how far I can get. If you do not know Project Euler, check out their [website](https://projecteuler.net). They describe themselves as follows:"
   ]
  },
  {
   "cell_type": "markdown",
   "id": "natural-violence",
   "metadata": {},
   "source": [
    "> __What is Project Euler?__ <br>\n",
    "<br>\n",
    "> Project Euler is a series of challenging mathematical/computer programming problems that will require more than\n",
    "> just mathematical insights to solve. Although mathematics will help you arrive at elegant and efficient methods,\n",
    "> the use of a computer and programming skills will be required to solve most problems.\n",
    ">\n",
    "> The motivation for starting Project Euler, and its continuation, is to provide a platform for the inquiring mind\n",
    "> to delve into unfamiliar areas and learn new concepts in a fun and recreational context."
   ]
  },
  {
   "cell_type": "markdown",
   "id": "purple-teens",
   "metadata": {},
   "source": [
    "Along the way, I want to describe how I approach to solve these problems. Actually, the team from Project Euler asks to not share any solutions publicly outside of Project Euler (besides their website, they also have a [forum](https://projecteuler.chat/)). However, this rule does not apply to the problems 1 to 100 as long as you do not only post the solution but also the way how you got to solution (i.e., your code or calculations). You can find that rule on their [about page](https://projecteuler.net/about) (you need to be logged in)."
   ]
  },
  {
   "cell_type": "markdown",
   "id": "rotary-europe",
   "metadata": {},
   "source": [
    "> __I learned so much solving problem XXX, so is it okay to publish my solution elsewhere?__\n",
    ">\n",
    ">It appears that you have answered your own question. There is nothing quite like that \"Aha!\" moment when you  \n",
    ">finally beat a problem which you have been working on for some time. It is often through the best of intentions \n",
    "> in wishing to share our insights so that others can enjoy that moment too. Sadly, that will rarely be the case \n",
    "> for your readers. Real learning is an active process and seeing how it is done is a long way from experiencing \n",
    "> that epiphany of discovery. Please do not deny others what you have so richly valued yourself.\n",
    ">\n",
    "> However, the rule about sharing solutions outside of Project Euler does not apply to the first one-hundred \n",
    "> problems, as long as any discussion clearly aims to instruct methods, not just provide answers, and does not \n",
    "> directly threaten to undermine the enjoyment of solving later problems. Problems 1 to 100 provide a wealth of \n",
    "> helpful introductory teaching material and if you are able to respect our requirements, then we give permission \n",
    "> for those problems and their solutions to be discussed elsewhere."
   ]
  },
  {
   "cell_type": "markdown",
   "id": "previous-theology",
   "metadata": {},
   "source": [
    "Since I want to respect their rules, I plan to post the solutions and how I got them only for problem 1 to 100 here. I hope this might also help others to get started with Project Euler."
   ]
  },
  {
   "cell_type": "markdown",
   "id": "efficient-variation",
   "metadata": {},
   "source": [
    "> Warning: If you also plan to blog about solving problems from Project Euler, do only blog about problem 1 to 100 and share how you got to the solution (through e.g., code or calculations). Otherwise you violate their rules."
   ]
  },
  {
   "cell_type": "markdown",
   "id": "eastern-bosnia",
   "metadata": {},
   "source": [
    "## Problem 1: Multiples of 3 and 5"
   ]
  },
  {
   "cell_type": "markdown",
   "id": "directed-reward",
   "metadata": {},
   "source": [
    "> If we list all the natural numbers below 10 that are multiples of 3 or 5, we get 3, 5, 6 and 9. The sum of these \n",
    "> multiples is 23.\n",
    ">\n",
    "> Find the sum of all the multiples of 3 or 5 below 1000."
   ]
  },
  {
   "cell_type": "markdown",
   "id": "cellular-produce",
   "metadata": {},
   "source": [
    "### Naive Approach"
   ]
  },
  {
   "cell_type": "markdown",
   "id": "graduate-perception",
   "metadata": {},
   "source": [
    "A naive approach to solve this problem is to use brute-force. We simply loop through all numbers between 3 and 999  and check which numbers are divisible by 3 or 5. The lower bound is 3 here, because we already know that 1 and 2 are not divisible by either 3 or 5. The upper bound is 999, because the problem descriptions says that we should consider numbers below 1000. \n",
    "\n",
    "To check if a number is divisible by 3 or 5, we can use the [modulo operator](https://en.wikipedia.org/wiki/Modulo_operation) (in Python it's the `%` sign). The modulo operator gives you the rest of a division operation. For instance, if we want to calculate `5 / 2`, we get `2.5`. However, if we want to receive the result in whole numbers, we get `2` with a rest of `1` (`2 * 2 = 4` and `4 + rest 1` is `5`). The modulo operator gives you the rest (here `1`). We can use this to test if a number is divisible by another number, since in this case the rest must be `0`.  So, to check if a number is divisible by 3, we can use the expression `number % 3 == 0` (similarly we can check if a number is divisible by 5 using the expression `number % 5 == 0`). \n",
    "\n",
    "The whole code looks as follows (in Python):"
   ]
  },
  {
   "cell_type": "code",
   "execution_count": 1,
   "id": "earlier-medium",
   "metadata": {},
   "outputs": [
    {
     "name": "stdout",
     "output_type": "stream",
     "text": [
      "CPU times: user 155 µs, sys: 4 µs, total: 159 µs\n",
      "Wall time: 163 µs\n"
     ]
    },
    {
     "data": {
      "text/plain": [
       "233168"
      ]
     },
     "execution_count": 1,
     "metadata": {},
     "output_type": "execute_result"
    }
   ],
   "source": [
    "def multiples():\n",
    "    n = 999\n",
    "\n",
    "    sum = 0\n",
    "    for i in range(n,2,-1):\n",
    "        if (i % 3 == 0) or (i % 5 == 0):\n",
    "            sum += i\n",
    "            \n",
    "    return sum\n",
    "\n",
    "%time multiples()"
   ]
  },
  {
   "cell_type": "markdown",
   "id": "accessory-healing",
   "metadata": {},
   "source": [
    "The solution is `233168`. The calculation took `163` microseconds."
   ]
  },
  {
   "cell_type": "markdown",
   "id": "vanilla-emission",
   "metadata": {},
   "source": [
    "### Pure-Mathematical Approach"
   ]
  },
  {
   "cell_type": "markdown",
   "id": "confident-custom",
   "metadata": {},
   "source": [
    "Actually, after a while it came to my mind, that you don't need to write any code to solve the problem. You can solve it only by using mathematics."
   ]
  },
  {
   "cell_type": "markdown",
   "id": "rubber-extreme",
   "metadata": {},
   "source": [
    "The numbers that are divisible by `3` are "
   ]
  },
  {
   "cell_type": "markdown",
   "id": "sunrise-batman",
   "metadata": {},
   "source": [
    "$3, \\quad 6, \\quad 9, \\quad 12, \\quad ...$"
   ]
  },
  {
   "cell_type": "markdown",
   "id": "preceding-command",
   "metadata": {},
   "source": [
    "The numbers that are divisible by `5` are "
   ]
  },
  {
   "cell_type": "markdown",
   "id": "historical-terror",
   "metadata": {},
   "source": [
    "$5, \\quad 10, \\quad 15, \\quad 20, \\quad ...$"
   ]
  },
  {
   "cell_type": "markdown",
   "id": "textile-specification",
   "metadata": {},
   "source": [
    "If a number is divisible by 3, it must also be a multiple of 3. So, we can also write the list of numbers as follows"
   ]
  },
  {
   "cell_type": "markdown",
   "id": "intellectual-evidence",
   "metadata": {},
   "source": [
    "$3\\cdot1 (=3), \\quad 3\\cdot2 (=6), \\quad 3\\cdot3 (=9), \\quad 3\\cdot4 (=12), \\quad ...$"
   ]
  },
  {
   "cell_type": "markdown",
   "id": "virtual-republican",
   "metadata": {},
   "source": [
    "Similarly for the numbers divisible by `5`"
   ]
  },
  {
   "cell_type": "markdown",
   "id": "worthy-knitting",
   "metadata": {},
   "source": [
    "$5\\cdot1 (=5), \\quad 5\\cdot2 (=10), \\quad 5\\cdot3 (=15), \\quad 5\\cdot4 (=20), \\quad ...$"
   ]
  },
  {
   "cell_type": "markdown",
   "id": "typical-petersburg",
   "metadata": {},
   "source": [
    "However, what we actually need is sum of the numbers divisible by `3`"
   ]
  },
  {
   "cell_type": "markdown",
   "id": "metric-arkansas",
   "metadata": {},
   "source": [
    "$3\\cdot1 \\quad + \\quad 3\\cdot2 \\quad + \\quad 3\\cdot3 \\quad + \\quad 3\\cdot4 \\quad + \\quad ...$"
   ]
  },
  {
   "cell_type": "markdown",
   "id": "worth-sunset",
   "metadata": {},
   "source": [
    "and the numbers divisible by `5`"
   ]
  },
  {
   "cell_type": "markdown",
   "id": "monetary-consumer",
   "metadata": {},
   "source": [
    "$5\\cdot1 \\quad + \\quad 5\\cdot2 \\quad + \\quad 5\\cdot3 \\quad + \\quad 5\\cdot4 \\quad + \\quad ...$"
   ]
  },
  {
   "cell_type": "markdown",
   "id": "acknowledged-separation",
   "metadata": {},
   "source": [
    "We can pull out the `3`"
   ]
  },
  {
   "cell_type": "markdown",
   "id": "bored-wings",
   "metadata": {},
   "source": [
    "$3 \\cdot (1 \\quad + \\quad 2 \\quad + \\quad 3 \\quad + \\quad 4 \\quad + \\quad ...)$"
   ]
  },
  {
   "cell_type": "markdown",
   "id": "portable-signal",
   "metadata": {},
   "source": [
    "and the `5`"
   ]
  },
  {
   "cell_type": "markdown",
   "id": "victorian-limitation",
   "metadata": {},
   "source": [
    "$5 \\cdot (1 \\quad + \\quad 2 \\quad + \\quad 3 \\quad + \\quad 4 \\quad + \\quad ...)$"
   ]
  },
  {
   "cell_type": "markdown",
   "id": "threaded-invite",
   "metadata": {},
   "source": [
    "Now, we can make use of the following [formula for summations](https://en.wikipedia.org/wiki/Summation)"
   ]
  },
  {
   "cell_type": "markdown",
   "id": "referenced-split",
   "metadata": {},
   "source": [
    "$$1 \\quad + \\quad 2 \\quad + \\quad 3 \\quad + \\quad ... \\quad + \\quad n \\quad = \\quad \\sum^n_{i=1} i \\quad = \\quad  \\frac{n \\cdot (n + 1)}{2}$$"
   ]
  },
  {
   "cell_type": "markdown",
   "id": "aerial-engine",
   "metadata": {},
   "source": [
    "and use them for our sum of numbers divisible by `3`"
   ]
  },
  {
   "cell_type": "markdown",
   "id": "upset-recruitment",
   "metadata": {},
   "source": [
    "$$3 \\cdot (1 \\quad + \\quad 2 \\quad + \\quad 3 \\quad + \\quad 4 \\quad + \\quad ...) \\quad = \\quad \\frac{3 \\cdot n \\cdot (n + 1)}{2}$$"
   ]
  },
  {
   "cell_type": "markdown",
   "id": "super-preference",
   "metadata": {},
   "source": [
    "and for our sum of the numbers divisible by `5`"
   ]
  },
  {
   "cell_type": "markdown",
   "id": "contrary-afternoon",
   "metadata": {},
   "source": [
    "$$5 \\cdot (1 \\quad + \\quad 2 \\quad + \\quad 3 \\quad + \\quad 4 \\quad + \\quad ...) \\quad = \\quad \\frac{5 \\cdot n \\cdot (n + 1)}{2}$$"
   ]
  },
  {
   "cell_type": "markdown",
   "id": "rotary-divorce",
   "metadata": {},
   "source": [
    "But what is `n` in both cases? Well, the upper bound is `1000`. Thus, the highest number divisible by `3` must satisfy the following requirement"
   ]
  },
  {
   "cell_type": "markdown",
   "id": "polish-complaint",
   "metadata": {},
   "source": [
    "\\begin{align}\n",
    "3 \\cdot n \\quad & < \\quad 1000 \\\\\n",
    "n \\quad & < \\quad \\frac{1000}{3} \\\\\n",
    "n \\quad & < \\quad 333.\\overline{33}\n",
    "\\end{align}"
   ]
  },
  {
   "cell_type": "markdown",
   "id": "bound-january",
   "metadata": {},
   "source": [
    "This means that `n` is `333`, because `333` is the highest whole number smaller than `333.33`. Now, we can calculate `n` for the numbers divisible by `5` in the same way"
   ]
  },
  {
   "cell_type": "markdown",
   "id": "desirable-arkansas",
   "metadata": {},
   "source": [
    "\\begin{align}\n",
    "5 \\cdot n \\quad & < \\quad 1000 \\\\\n",
    "n \\quad & < \\quad \\frac{1000}{5} \\\\\n",
    "n \\quad & < \\quad 200\n",
    "\\end{align}"
   ]
  },
  {
   "cell_type": "markdown",
   "id": "musical-balance",
   "metadata": {},
   "source": [
    "This means that `n` is `199`, because `199` is the highest whole number smaller than `200`. Now, we can set the `n` in both formulas and add both formulas together"
   ]
  },
  {
   "cell_type": "markdown",
   "id": "respiratory-cutting",
   "metadata": {},
   "source": [
    "$$\\frac{3 \\cdot 333 \\cdot (333 + 1)}{2} \\quad + \\quad \\frac{5 \\cdot 199 \\cdot (199 + 1)}{2} \\quad = \\quad \\frac{3 \\cdot 333 \\cdot 334 \\quad + \\quad 5 \\cdot 199 \\cdot 200}{2} \\quad = \\quad 266333$$"
   ]
  },
  {
   "cell_type": "markdown",
   "id": "mediterranean-conspiracy",
   "metadata": {},
   "source": [
    "However, this is not the final solution yet. Why? Because we counted a few numbers twice. Which? Well, the numbers divisible by `15`, because the numbers divisible by `15` are divisible by `3` and by `5`. The numbers divisible by `15` are multiples of `15`"
   ]
  },
  {
   "cell_type": "markdown",
   "id": "inside-finder",
   "metadata": {},
   "source": [
    "$15\\cdot1 (=15), \\quad 15\\cdot2 (=30), \\quad 15\\cdot3 (=45), \\quad 15\\cdot4 (=60), \\quad ...$"
   ]
  },
  {
   "cell_type": "markdown",
   "id": "lesbian-breakfast",
   "metadata": {},
   "source": [
    "But they are also multiples of `3` and `5`, which becomes clear when we write the multiples of `15` as follows"
   ]
  },
  {
   "cell_type": "markdown",
   "id": "entitled-assistant",
   "metadata": {},
   "source": [
    "$3\\cdot5\\cdot1 (=15), \\quad 3\\cdot5\\cdot2 (=30), \\quad 3\\cdot5\\cdot3 (=45), \\quad 3\\cdot5\\cdot4 (=60), \\quad ...$"
   ]
  },
  {
   "cell_type": "markdown",
   "id": "acquired-force",
   "metadata": {},
   "source": [
    "since `3` times `5` is `15`. So, this means we added these numbers twice when we calculated our sum, because they were included in the sum of the numbers divisible by `3` and in the sum of the numbers divisible by `5`. Hence, we need to substract each of the numbers divisible by `15` once from our sum of numbers divisible by `3` and `5`. For this we need to calculate the sum of the numbers divisible by `15` and substract that sum from our sum of the numbers divisible by `3` and `5`. Let's calculate the sum of the numbers divisible by `15` first"
   ]
  },
  {
   "cell_type": "markdown",
   "id": "placed-novelty",
   "metadata": {},
   "source": [
    "$$\\frac{15 \\cdot n \\cdot (n + 1)}{2}$$"
   ]
  },
  {
   "cell_type": "markdown",
   "id": "acoustic-destruction",
   "metadata": {},
   "source": [
    "Let's calculate the `n`"
   ]
  },
  {
   "cell_type": "markdown",
   "id": "express-independence",
   "metadata": {},
   "source": [
    "\\begin{align}\n",
    "15 \\cdot n \\quad & < \\quad 1000 \\\\\n",
    "n \\quad & < \\quad \\frac{1000}{15} \\\\\n",
    "n \\quad & < \\quad 66.\\overline{66}\n",
    "\\end{align}"
   ]
  },
  {
   "cell_type": "markdown",
   "id": "revolutionary-canvas",
   "metadata": {},
   "source": [
    "This means `n` is `66`, because `66` is the highest whole number smaller than `66.66`. Now, let's calculate the sum of the numbers divisible by `15`"
   ]
  },
  {
   "cell_type": "markdown",
   "id": "herbal-synthesis",
   "metadata": {},
   "source": [
    "$$\\frac{15 \\cdot 66 \\cdot (n + 1)}{2} \\quad = \\quad \\frac{15\\cdot66\\cdot67}{2} \\quad = \\quad 33165$$"
   ]
  },
  {
   "cell_type": "markdown",
   "id": "liked-billy",
   "metadata": {},
   "source": [
    "Finally, let's substract the sum of the numbers divisible by `15` from our sum of the numbers divisible by `3` and `5`"
   ]
  },
  {
   "cell_type": "markdown",
   "id": "authorized-complaint",
   "metadata": {},
   "source": [
    "$$266333 \\quad - \\quad 33165 \\quad = \\quad 233168$$"
   ]
  },
  {
   "cell_type": "markdown",
   "id": "steady-minority",
   "metadata": {},
   "source": [
    "The solution is `233168`. This is the same solution that we also received with our naive approach above."
   ]
  },
  {
   "cell_type": "code",
   "execution_count": null,
   "id": "wired-independence",
   "metadata": {},
   "outputs": [],
   "source": []
  }
 ],
 "metadata": {
  "kernelspec": {
   "display_name": "Python 3",
   "language": "python",
   "name": "python3"
  },
  "language_info": {
   "codemirror_mode": {
    "name": "ipython",
    "version": 3
   },
   "file_extension": ".py",
   "mimetype": "text/x-python",
   "name": "python",
   "nbconvert_exporter": "python",
   "pygments_lexer": "ipython3",
   "version": "3.7.9"
  }
 },
 "nbformat": 4,
 "nbformat_minor": 5
}
