{
 "cells": [
  {
   "cell_type": "markdown",
   "id": "proved-campus",
   "metadata": {},
   "source": [
    "# Project Euler | Problem 1 - Multiples of 3 and 5\n",
    "> A tutorial about how to solve problem 1 from Project Euler. \n",
    "\n",
    "- badges: false\n",
    "- comments: false\n",
    "- author: bam098\n",
    "- categories: [Project Euler, Math]"
   ]
  },
  {
   "cell_type": "markdown",
   "id": "domestic-bandwidth",
   "metadata": {},
   "source": [
    "I have decided to start with [Project Euler](https://projecteuler.net/). Project Euler is a website that collects mathematical problems for people who like to work on mathematics. I guess I am one of such people and I want to see how far I can get. If you do not know Project Euler, check out their [website](https://projecteuler.net). They describe themselves as follows:"
   ]
  },
  {
   "cell_type": "markdown",
   "id": "formed-combining",
   "metadata": {},
   "source": [
    "> Note: __What is Project Euler?__ Project Euler is a series of challenging mathematical/computer programming problems that will require more than just mathematical insights to solve. Although mathematics will help you arrive at elegant and efficient methods, the use of a computer and programming skills will be required to solve most problems. The motivation for starting Project Euler, and its continuation, is to provide a platform for the inquiring mind to delve into unfamiliar areas and learn new concepts in a fun and recreational context."
   ]
  },
  {
   "cell_type": "markdown",
   "id": "spare-cherry",
   "metadata": {},
   "source": [
    "Along the way, I want to describe how I approach to solve these problems. Actually, the team from Project Euler asks to not share any solutions publicly outside of Project Euler (besides their website, they also have a [forum](https://projecteuler.chat/)). However, this rule does not apply to the problems 1 to 100 as long as you do not only post the solution but also the way how you got to solution (i.e., your code or calculations). You can find that rule on their [about page](https://projecteuler.net/about) (you need to be logged in)."
   ]
  },
  {
   "cell_type": "markdown",
   "id": "antique-cabin",
   "metadata": {},
   "source": [
    "> Note: __I learned so much solving problem XXX, so is it okay to publish my solution elsewhere?__ It appears that you have answered your own question. There is nothing quite like that \"Aha!\" moment when you finally beat a problem which you have been working on for some time. It is often through the best of intentions in wishing to share our insights so that others can enjoy that moment too. Sadly, that will rarely be the case for your readers. Real learning is an active process and seeing how it is done is a long way from experiencing that epiphany of discovery. Please do not deny others what you have so richly valued yourself. However, the rule about sharing solutions outside of Project Euler does not apply to the first one-hundred problems, as long as any discussion clearly aims to instruct methods, not just provide answers, and does not directly threaten to undermine the enjoyment of solving later problems. Problems 1 to 100 provide a wealth of helpful introductory teaching material and if you are able to respect our requirements, then we give permission for those problems and their solutions to be discussed elsewhere."
   ]
  },
  {
   "cell_type": "markdown",
   "id": "matched-clothing",
   "metadata": {},
   "source": [
    "Since I want to respect their rules, I plan to post the solutions and how I got them only for problem 1 to 100 here. I hope this might also help others to get started with Project Euler."
   ]
  },
  {
   "cell_type": "markdown",
   "id": "funky-burner",
   "metadata": {},
   "source": [
    "> Warning: If you also plan to blog about solving problems from Project Euler, do only blog about problem 1 to 100 and share how you got to the solution (through e.g., code or calculations). Otherwise you violate their rules."
   ]
  },
  {
   "cell_type": "markdown",
   "id": "surrounded-works",
   "metadata": {},
   "source": [
    "## Problem 1: Multiples of 3 and 5"
   ]
  },
  {
   "cell_type": "markdown",
   "id": "duplicate-watch",
   "metadata": {},
   "source": [
    "> Note: If we list all the natural numbers below 10 that are multiples of 3 or 5, we get 3, 5, 6 and 9. The sum of these multiples is 23. Find the sum of all the multiples of 3 or 5 below 1000."
   ]
  },
  {
   "cell_type": "markdown",
   "id": "parental-antibody",
   "metadata": {},
   "source": [
    "### Naive Approach"
   ]
  },
  {
   "cell_type": "markdown",
   "id": "annual-maple",
   "metadata": {},
   "source": [
    "A naive approach to solve this problem is to use brute-force. We simply loop through all numbers between 3 and 999  and check which numbers are divisible by 3 or 5. The lower bound is 3 here, because we already know that 1 and 2 are not divisible by either 3 or 5. The upper bound is 999, because the problem descriptions says that we should consider numbers below 1000. \n",
    "\n",
    "To check if a number is divisible by 3 or 5, we can use the [modulo operator](https://en.wikipedia.org/wiki/Modulo_operation) (in Python it's the `%` sign). The modulo operator gives you the rest of a division operation. For instance, if we want to calculate `5 / 2`, we get `2.5`. However, if we want to receive the result in whole numbers, we get `2` with a rest of `1` (`2 * 2 = 4` and `4 + rest 1` is `5`). The modulo operator gives you the rest (here `1`). We can use this to test if a number is divisible by another number, since in this case the rest must be `0`.  So, to check if a number is divisible by 3, we can use the expression `number % 3 == 0` (similarly we can check if a number is divisible by 5 using the expression `number % 5 == 0`). \n",
    "\n",
    "The whole code looks as follows (in Python):"
   ]
  },
  {
   "cell_type": "code",
   "execution_count": 1,
   "id": "technological-sewing",
   "metadata": {},
   "outputs": [
    {
     "name": "stdout",
     "output_type": "stream",
     "text": [
      "CPU times: user 155 µs, sys: 4 µs, total: 159 µs\n",
      "Wall time: 163 µs\n"
     ]
    },
    {
     "data": {
      "text/plain": [
       "233168"
      ]
     },
     "execution_count": 1,
     "metadata": {},
     "output_type": "execute_result"
    }
   ],
   "source": [
    "def multiples():\n",
    "    n = 999\n",
    "\n",
    "    sum = 0\n",
    "    for i in range(n,2,-1):\n",
    "        if (i % 3 == 0) or (i % 5 == 0):\n",
    "            sum += i\n",
    "            \n",
    "    return sum\n",
    "\n",
    "%time multiples()"
   ]
  },
  {
   "cell_type": "markdown",
   "id": "antique-peoples",
   "metadata": {},
   "source": [
    "The solution is `233168`. The calculation took `163` microseconds."
   ]
  },
  {
   "cell_type": "markdown",
   "id": "decreased-organizer",
   "metadata": {},
   "source": [
    "### Pure-Mathematical Approach"
   ]
  },
  {
   "cell_type": "markdown",
   "id": "automotive-setup",
   "metadata": {},
   "source": [
    "Actually, after a while it came to my mind, that you don't need to write any code to solve the problem. You can solve it only by using mathematics."
   ]
  },
  {
   "cell_type": "markdown",
   "id": "governmental-monday",
   "metadata": {},
   "source": [
    "The numbers that are divisible by `3` are "
   ]
  },
  {
   "cell_type": "markdown",
   "id": "practical-artwork",
   "metadata": {},
   "source": [
    "$3, \\quad 6, \\quad 9, \\quad 12, \\quad ...$"
   ]
  },
  {
   "cell_type": "markdown",
   "id": "affected-session",
   "metadata": {},
   "source": [
    "The numbers that are divisible by `5` are "
   ]
  },
  {
   "cell_type": "markdown",
   "id": "turned-ranking",
   "metadata": {},
   "source": [
    "$5, \\quad 10, \\quad 15, \\quad 20, \\quad ...$"
   ]
  },
  {
   "cell_type": "markdown",
   "id": "wooden-phenomenon",
   "metadata": {},
   "source": [
    "If a number is divisible by 3, it must also be a multiple of 3. So, we can also write the list of numbers as follows"
   ]
  },
  {
   "cell_type": "markdown",
   "id": "wrong-express",
   "metadata": {},
   "source": [
    "$3\\cdot1 (=3), \\quad 3\\cdot2 (=6), \\quad 3\\cdot3 (=9), \\quad 3\\cdot4 (=12), \\quad ...$"
   ]
  },
  {
   "cell_type": "markdown",
   "id": "hydraulic-trainer",
   "metadata": {},
   "source": [
    "Similarly for the numbers divisible by `5`"
   ]
  },
  {
   "cell_type": "markdown",
   "id": "human-visibility",
   "metadata": {},
   "source": [
    "$5\\cdot1 (=5), \\quad 5\\cdot2 (=10), \\quad 5\\cdot3 (=15), \\quad 5\\cdot4 (=20), \\quad ...$"
   ]
  },
  {
   "cell_type": "markdown",
   "id": "premium-immunology",
   "metadata": {},
   "source": [
    "However, what we actually need is sum of the numbers divisible by `3`"
   ]
  },
  {
   "cell_type": "markdown",
   "id": "involved-drove",
   "metadata": {},
   "source": [
    "$3\\cdot1 \\quad + \\quad 3\\cdot2 \\quad + \\quad 3\\cdot3 \\quad + \\quad 3\\cdot4 \\quad + \\quad ...$"
   ]
  },
  {
   "cell_type": "markdown",
   "id": "dedicated-offset",
   "metadata": {},
   "source": [
    "and the numbers divisible by `5`"
   ]
  },
  {
   "cell_type": "markdown",
   "id": "orange-medicare",
   "metadata": {},
   "source": [
    "$5\\cdot1 \\quad + \\quad 5\\cdot2 \\quad + \\quad 5\\cdot3 \\quad + \\quad 5\\cdot4 \\quad + \\quad ...$"
   ]
  },
  {
   "cell_type": "markdown",
   "id": "thirty-notice",
   "metadata": {},
   "source": [
    "We can pull out the `3`"
   ]
  },
  {
   "cell_type": "markdown",
   "id": "reserved-village",
   "metadata": {},
   "source": [
    "$3 \\cdot (1 \\quad + \\quad 2 \\quad + \\quad 3 \\quad + \\quad 4 \\quad + \\quad ...)$"
   ]
  },
  {
   "cell_type": "markdown",
   "id": "clear-prospect",
   "metadata": {},
   "source": [
    "and the `5`"
   ]
  },
  {
   "cell_type": "markdown",
   "id": "normal-marshall",
   "metadata": {},
   "source": [
    "$5 \\cdot (1 \\quad + \\quad 2 \\quad + \\quad 3 \\quad + \\quad 4 \\quad + \\quad ...)$"
   ]
  },
  {
   "cell_type": "markdown",
   "id": "recorded-metro",
   "metadata": {},
   "source": [
    "Now, we can make use of the following [formula for summations](https://en.wikipedia.org/wiki/Summation)"
   ]
  },
  {
   "cell_type": "markdown",
   "id": "narrow-earth",
   "metadata": {},
   "source": [
    "$$1 \\quad + \\quad 2 \\quad + \\quad 3 \\quad + \\quad ... \\quad + \\quad n \\quad = \\quad \\sum^n_{i=1} i \\quad = \\quad  \\frac{n \\cdot (n + 1)}{2}$$"
   ]
  },
  {
   "cell_type": "markdown",
   "id": "minute-arthritis",
   "metadata": {},
   "source": [
    "and use them for our sum of numbers divisible by `3`"
   ]
  },
  {
   "cell_type": "markdown",
   "id": "obvious-nigeria",
   "metadata": {},
   "source": [
    "$$3 \\cdot (1 \\quad + \\quad 2 \\quad + \\quad 3 \\quad + \\quad 4 \\quad + \\quad ...) \\quad = \\quad \\frac{3 \\cdot n \\cdot (n + 1)}{2}$$"
   ]
  },
  {
   "cell_type": "markdown",
   "id": "accomplished-relief",
   "metadata": {},
   "source": [
    "and for our sum of the numbers divisible by `5`"
   ]
  },
  {
   "cell_type": "markdown",
   "id": "empty-debut",
   "metadata": {},
   "source": [
    "$$5 \\cdot (1 \\quad + \\quad 2 \\quad + \\quad 3 \\quad + \\quad 4 \\quad + \\quad ...) \\quad = \\quad \\frac{5 \\cdot n \\cdot (n + 1)}{2}$$"
   ]
  },
  {
   "cell_type": "markdown",
   "id": "solved-beatles",
   "metadata": {},
   "source": [
    "But what is `n` in both cases? Well, the upper bound is `1000`. Thus, the highest number divisible by `3` must satisfy the following requirement"
   ]
  },
  {
   "cell_type": "markdown",
   "id": "measured-access",
   "metadata": {},
   "source": [
    "$$3 \\cdot n \\quad < \\quad 1000$$"
   ]
  },
  {
   "cell_type": "markdown",
   "id": "hearing-mason",
   "metadata": {},
   "source": [
    "Now, we can calculate the `n`"
   ]
  },
  {
   "cell_type": "markdown",
   "id": "empty-cannon",
   "metadata": {},
   "source": [
    "$$n \\quad < \\quad \\frac{1000}{3}$$"
   ]
  },
  {
   "cell_type": "markdown",
   "id": "metallic-pierce",
   "metadata": {},
   "source": [
    "$$n \\quad < \\quad 333.\\overline{33}$$"
   ]
  },
  {
   "cell_type": "markdown",
   "id": "mounted-luther",
   "metadata": {},
   "source": [
    "This means that `n` is `333`, because `333` is the highest whole number smaller than `333.33`. Similarly, the highest number divisible by `5` must satisfy the following requirement"
   ]
  },
  {
   "cell_type": "markdown",
   "id": "advisory-storage",
   "metadata": {},
   "source": [
    "$$5 \\cdot n \\quad  < \\quad 1000$$"
   ]
  },
  {
   "cell_type": "markdown",
   "id": "documentary-graduation",
   "metadata": {},
   "source": [
    "Now, we can calculate the `n`"
   ]
  },
  {
   "cell_type": "markdown",
   "id": "sitting-steel",
   "metadata": {},
   "source": [
    "$$n \\quad < \\quad \\frac{1000}{5}$$"
   ]
  },
  {
   "cell_type": "markdown",
   "id": "legislative-sacramento",
   "metadata": {},
   "source": [
    "$$n \\quad < \\quad 200$$"
   ]
  },
  {
   "cell_type": "markdown",
   "id": "improving-library",
   "metadata": {},
   "source": [
    "This means that `n` is `199`, because `199` is the highest whole number smaller than `200`. Now, we can set the `n` in both formulas and add both formulas together"
   ]
  },
  {
   "cell_type": "markdown",
   "id": "instant-butler",
   "metadata": {},
   "source": [
    "$$\\frac{3 \\cdot 333 \\cdot (333 + 1)}{2} \\quad + \\quad \\frac{5 \\cdot 199 \\cdot (199 + 1)}{2} \\quad = \\quad 266333$$"
   ]
  },
  {
   "cell_type": "markdown",
   "id": "moving-ferry",
   "metadata": {},
   "source": [
    "However, this is not the final solution yet. Why? Because we counted a few numbers twice. Which? Well, the numbers divisible by `15`, because the numbers divisible by `15` are divisible by `3` and by `5`. The numbers divisible by `15` are multiples of `15`"
   ]
  },
  {
   "cell_type": "markdown",
   "id": "former-sitting",
   "metadata": {},
   "source": [
    "$15\\cdot1 (=15), \\quad 15\\cdot2 (=30), \\quad 15\\cdot3 (=45), \\quad 15\\cdot4 (=60), \\quad ...$"
   ]
  },
  {
   "cell_type": "markdown",
   "id": "offshore-advertising",
   "metadata": {},
   "source": [
    "But they are also multiples of `3` and `5`, which becomes clear when we write the multiples of `15` as follows"
   ]
  },
  {
   "cell_type": "markdown",
   "id": "finnish-relation",
   "metadata": {},
   "source": [
    "$3\\cdot5\\cdot1 (=15), \\quad 3\\cdot5\\cdot2 (=30), \\quad 3\\cdot5\\cdot3 (=45), \\quad 3\\cdot5\\cdot4 (=60), \\quad ...$"
   ]
  },
  {
   "cell_type": "markdown",
   "id": "statewide-colon",
   "metadata": {},
   "source": [
    "since `3` times `5` is `15`. So, this means we added these numbers twice when we calculated our sum, because they were included in the sum of the numbers divisible by `3` and in the sum of the numbers divisible by `5`. Hence, we need to substract each of the numbers divisible by `15` once from our sum of numbers divisible by `3` and `5`. For this we need to calculate the sum of the numbers divisible by `15` and substract that sum from our sum of the numbers divisible by `3` and `5`. Let's calculate the sum of the numbers divisible by `15` first"
   ]
  },
  {
   "cell_type": "markdown",
   "id": "fossil-logistics",
   "metadata": {},
   "source": [
    "$$\\frac{15 \\cdot n \\cdot (n + 1)}{2}$$"
   ]
  },
  {
   "cell_type": "markdown",
   "id": "together-cartoon",
   "metadata": {},
   "source": [
    "The highest number divisible by `15` must satisfy the following requirement"
   ]
  },
  {
   "cell_type": "markdown",
   "id": "happy-navigation",
   "metadata": {},
   "source": [
    "$$15 \\cdot n \\quad  < \\quad 1000$$"
   ]
  },
  {
   "cell_type": "markdown",
   "id": "confidential-meaning",
   "metadata": {},
   "source": [
    "Now, we can calculate the `n`"
   ]
  },
  {
   "cell_type": "markdown",
   "id": "partial-trust",
   "metadata": {},
   "source": [
    "$$n \\quad  < \\quad \\frac{1000}{15}$$"
   ]
  },
  {
   "cell_type": "markdown",
   "id": "violent-final",
   "metadata": {},
   "source": [
    "$$n \\quad  < \\quad 66.\\overline{66}$$"
   ]
  },
  {
   "cell_type": "markdown",
   "id": "finite-liverpool",
   "metadata": {},
   "source": [
    "This means `n` is `66`, because `66` is the highest whole number smaller than `66.66`. Now, let's calculate the sum of the numbers divisible by `15`"
   ]
  },
  {
   "cell_type": "markdown",
   "id": "returning-comment",
   "metadata": {},
   "source": [
    "$$\\frac{15 \\cdot 66 \\cdot (n + 1)}{2} \\quad = \\quad \\frac{15\\cdot66\\cdot67}{2} \\quad = \\quad 33165$$"
   ]
  },
  {
   "cell_type": "markdown",
   "id": "instrumental-commodity",
   "metadata": {},
   "source": [
    "Finally, let's substract the sum of the numbers divisible by `15` from our sum of the numbers divisible by `3` and `5`"
   ]
  },
  {
   "cell_type": "markdown",
   "id": "varied-conversation",
   "metadata": {},
   "source": [
    "$$266333 \\quad - \\quad 33165 \\quad = \\quad 233168$$"
   ]
  },
  {
   "cell_type": "markdown",
   "id": "incorporated-beast",
   "metadata": {},
   "source": [
    "The solution is `233168`. This is the same solution that we also received with our naive approach above."
   ]
  },
  {
   "cell_type": "code",
   "execution_count": null,
   "id": "attached-advertiser",
   "metadata": {},
   "outputs": [],
   "source": []
  }
 ],
 "metadata": {
  "kernelspec": {
   "display_name": "Python 3",
   "language": "python",
   "name": "python3"
  },
  "language_info": {
   "codemirror_mode": {
    "name": "ipython",
    "version": 3
   },
   "file_extension": ".py",
   "mimetype": "text/x-python",
   "name": "python",
   "nbconvert_exporter": "python",
   "pygments_lexer": "ipython3",
   "version": "3.7.9"
  }
 },
 "nbformat": 4,
 "nbformat_minor": 5
}
