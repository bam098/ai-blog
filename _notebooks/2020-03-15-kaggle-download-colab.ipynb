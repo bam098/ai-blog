{
 "cells": [
  {
   "cell_type": "markdown",
   "metadata": {},
   "source": [
    "# Download Datasets from Kaggle on Google Colab\n",
    "> A tutorial about how to set up and use the Kaggle API to download a dataset from Kaggle on Google Colab.\n",
    "\n",
    "- badges: true\n",
    "- hide_binder_badge: true\n",
    "- comments: false\n",
    "- author: bam098\n",
    "- categories: [Kaggle, Google Colab]"
   ]
  },
  {
   "cell_type": "markdown",
   "metadata": {},
   "source": [
    "[Google Colab](https://colab.research.google.com/) is a platform on which you can run [GPU](https://en.wikipedia.org/wiki/Graphics_processing_unit) (and [TPU](https://en.wikipedia.org/wiki/Tensor_processing_unit)) accelerated programs in a [jupyter-notebook](https://jupyter.org/) like environment. As a result it is ideal for machine learning education and basic research. The platform is free to use and it has [tensorflow](https://www.tensorflow.org/) and [fastai](https://github.com/fastai/fastai) pre-installed. \n",
    "\n",
    "However, before we can train any machine learning models we need to get data. [Kaggle](https://www.kaggle.com/) is a platform from which you can download a lot of different datasets, that can be used for machine learning. In this blog post I want to show how to download data from Kaggle on Google Colab. It consists of the following steps:\n",
    "1. Set up the Kaggle API\n",
    "2. Download the data"
   ]
  },
  {
   "cell_type": "markdown",
   "metadata": {
    "colab_type": "text",
    "id": "d1VUHe1VX93Q"
   },
   "source": [
    "## Set up the Kaggle API\n",
    "There are several ways to download data from Kaggle. An easy way is to use the [Kaggle API](https://github.com/Kaggle/kaggle-api). To set up the Kaggle API on Google Colab we need to run several steps. First of all we need a Kaggle API token. If you already have one, you can simply use it. However, if you do not have one or you want to create a new one, you need to do the following:\n",
    "1. You need to log into Kaggle and go to **My Account**. Then scroll down to the **API** section and click on **Expire API Token** to remove previous tokens.\n",
    "2. Then click on **Create New API Token**. It will download a `kaggle.json` file on your local machine."
   ]
  },
  {
   "cell_type": "markdown",
   "metadata": {},
   "source": [
    "![](my_images/kaggle_api_token.png)"
   ]
  },
  {
   "cell_type": "markdown",
   "metadata": {},
   "source": [
    "When you have the `kaggle.json` file, you can set up Kaggle on Google Colab. Therefor log into Google Colab and create a new notebook there. Then you need to execute the following steps."
   ]
  },
  {
   "cell_type": "markdown",
   "metadata": {
    "colab_type": "text",
    "id": "CgdHJ11lYHWQ"
   },
   "source": [
    "First of all we need to install the [kaggle](https://pypi.org/project/kaggle/) package on Google Colab. Therefor run the following code in a Google Colab cell."
   ]
  },
  {
   "cell_type": "code",
   "execution_count": 1,
   "metadata": {
    "colab": {},
    "colab_type": "code",
    "id": "9MjnNXoAX-GC"
   },
   "outputs": [],
   "source": [
    "! pip install -q kaggle"
   ]
  },
  {
   "cell_type": "markdown",
   "metadata": {},
   "source": [
    "![](my_images/gcolab_kaggle_ddd_data.png)"
   ]
  },
  {
   "cell_type": "markdown",
   "metadata": {
    "colab_type": "text",
    "id": "39sQyZF3YQfV"
   },
   "source": [
    "Next we need to upload the `kaggle.json` file. We can do this by running the following code, which will trigger a prompt that let's you upload a file."
   ]
  },
  {
   "cell_type": "code",
   "execution_count": 2,
   "metadata": {
    "colab": {},
    "colab_type": "code",
    "id": "2hoFMUDeVA-R"
   },
   "outputs": [],
   "source": [
    "from google.colab import files\n",
    "files.upload()"
   ]
  },
  {
   "cell_type": "markdown",
   "metadata": {
    "colab_type": "text",
    "id": "7G5mwkP4Ybxj"
   },
   "source": [
    "Since all the data we upload to Google Colab is lost after closing Google Colab, we need to save all data to our Google Drive. To mount our Google Drive space we need to run the following code. Goolge Colab will ask you to enter an authorization code. You can get one by clicking the corresponding link that appears after running the code. "
   ]
  },
  {
   "cell_type": "code",
   "execution_count": 3,
   "metadata": {
    "colab": {
     "base_uri": "https://localhost:8080/",
     "height": 122
    },
    "colab_type": "code",
    "id": "Z98MjhEAVIwE",
    "outputId": "475edb38-82ca-4c4a-e884-a1029c99c73c"
   },
   "outputs": [
    {
     "name": "stdout",
     "output_type": "stream",
     "text": [
      "Go to this URL in a browser: <URL>\n",
      "\n",
      "Enter your authorization code:\n",
      "··········\n",
      "Mounted at /content/gdrive\n"
     ]
    }
   ],
   "source": [
    "from google.colab import drive\n",
    "drive.mount('/content/gdrive', force_remount=True)"
   ]
  },
  {
   "cell_type": "markdown",
   "metadata": {
    "colab_type": "text",
    "id": "ntq4E13kYnW6"
   },
   "source": [
    "The home folder of your Google Drive is located under `/content/gdrive/My Drive`. We create a folder named `.kaggle` in that home folder. There we want to store the `kaggle.json` file."
   ]
  },
  {
   "cell_type": "code",
   "execution_count": 4,
   "metadata": {
    "colab": {},
    "colab_type": "code",
    "id": "SBWcaN45Xiao"
   },
   "outputs": [],
   "source": [
    "! mkdir /content/gdrive/My\\ Drive/.kaggle/"
   ]
  },
  {
   "cell_type": "markdown",
   "metadata": {
    "colab_type": "text",
    "id": "FNnEx049YvdM"
   },
   "source": [
    "After creating the `.kaggle` folder we can move the `kaggle.json` file there."
   ]
  },
  {
   "cell_type": "code",
   "execution_count": 5,
   "metadata": {
    "colab": {},
    "colab_type": "code",
    "id": "j4GeVQq2Vsn3"
   },
   "outputs": [],
   "source": [
    "! mv kaggle.json /content/gdrive/My\\ Drive/.kaggle/"
   ]
  },
  {
   "cell_type": "markdown",
   "metadata": {
    "colab_type": "text",
    "id": "GBN_ytyaY3Pm"
   },
   "source": [
    "Change the permisson of the file."
   ]
  },
  {
   "cell_type": "code",
   "execution_count": 6,
   "metadata": {
    "colab": {},
    "colab_type": "code",
    "id": "bJugBVo-WDTw"
   },
   "outputs": [],
   "source": [
    "! chmod 600 /content/gdrive/My\\ Drive/.kaggle/kaggle.json"
   ]
  },
  {
   "cell_type": "markdown",
   "metadata": {
    "colab_type": "text",
    "id": "6ORiFrynY7fW"
   },
   "source": [
    "However, the `kaggle.json` file is actually not in the correct location. The kaggle package looks for it under `/root`. I just wanted to store it in the home folder of our Google Drive, so that it is not lost after we close Google Colab. As a result we do not need to upload the `kaggle.json` file again next time we want to download data from Kaggle. We can simply copy it from the `.kaggle` folder in our Google Drive home folder instead."
   ]
  },
  {
   "cell_type": "markdown",
   "metadata": {},
   "source": [
    "Let's copy the file from there to `/root` now."
   ]
  },
  {
   "cell_type": "code",
   "execution_count": 7,
   "metadata": {
    "colab": {},
    "colab_type": "code",
    "id": "iMYXpEL3Wgsg"
   },
   "outputs": [],
   "source": [
    "! cp -r /content/gdrive/My\\ Drive/.kaggle/ /root/"
   ]
  },
  {
   "cell_type": "markdown",
   "metadata": {
    "colab_type": "text",
    "id": "tGfyC-HE2NYR"
   },
   "source": [
    "Now everything should be ready. However, I had some issues with the kaggle package in the following. It did not seem to be installed correctly. If you get the same problem, you can usually solve it by re-installing the package. I used version 1.5.6 of the package here. If you need another version, you can look up which one you need [here](https://pypi.org/project/kaggle/#history). Then simply adjust the following command by replacing **1.5.6** with the  version number you picked. If you do not have any problems in the following, you can skip this step."
   ]
  },
  {
   "cell_type": "code",
   "execution_count": 8,
   "metadata": {
    "colab": {
     "base_uri": "https://localhost:8080/",
     "height": 564
    },
    "colab_type": "code",
    "id": "hq-AB9Mk2OFD",
    "outputId": "e94e10f2-9321-48c1-ff5b-e208f1b726f4"
   },
   "outputs": [
    {
     "name": "stdout",
     "output_type": "stream",
     "text": [
      "Kaggle API 1.5.6\n"
     ]
    }
   ],
   "source": [
    "! pip uninstall -y kaggle\n",
    "! pip install --upgrade pip\n",
    "! pip install kaggle==1.5.6\n",
    "! kaggle -v"
   ]
  },
  {
   "cell_type": "markdown",
   "metadata": {
    "colab_type": "text",
    "id": "tWyx6WGpZDM7"
   },
   "source": [
    "That's it! To check if we set up the Kaggle API correctly, we can run the following command. You should be able to see a list of the Kaggle datasets as output. If you have the a problem with the kaggle package as mentioned above, you need to re-install it as described there."
   ]
  },
  {
   "cell_type": "code",
   "execution_count": 9,
   "metadata": {
    "colab": {
     "base_uri": "https://localhost:8080/",
     "height": 411
    },
    "colab_type": "code",
    "id": "lrBd2FzZW8qv",
    "outputId": "4eb1ee9d-0dc7-4dc7-ff6c-15e549075a48"
   },
   "outputs": [
    {
     "name": "stdout",
     "output_type": "stream",
     "text": [
      "ref                                                         title                                                size  lastUpdated          downloadCount  voteCount  usabilityRating  \n",
      "----------------------------------------------------------  --------------------------------------------------  -----  -------------------  -------------  ---------  ---------------  \n",
      "sudalairajkumar/novel-corona-virus-2019-dataset             Novel Corona Virus 2019 Dataset                     338KB  2020-03-09 05:24:05          27345       1140  0.9705882        \n",
      "kimjihoo/coronavirusdataset                                 Coronavirus-Dataset                                  29KB  2020-03-09 15:20:21           8220        405  1.0              \n",
      "rupals/gpu-runtime                                          Segmentation GPU Kernel Performance Dataset           4MB  2020-03-01 10:04:27            115          8  0.8235294        \n",
      "anlthms/dfdc-video-faces                                    DFDC video face crops - parts 4-8                     2GB  2020-03-03 01:22:58             43          7  0.5              \n",
      "prakrutchauhan/indian-candidates-for-general-election-2019  Indian Candidates for General Election 2019         133KB  2020-03-03 07:01:53            471         33  0.7058824        \n",
      "brunotly/foreign-exchange-rates-per-dollar-20002019         Foreign Exchange Rates 2000-2019                      1MB  2020-03-03 17:43:07            642         27  1.0              \n",
      "shivamb/real-or-fake-fake-jobposting-prediction             [Real or Fake] Fake JobPosting Prediction            16MB  2020-02-29 08:23:34            797         50  1.0              \n",
      "tapakah68/yandextoloka-water-meters-dataset                 Water Meters Dataset                                982MB  2020-02-29 10:59:49            113         11  0.9411765        \n",
      "shank885/knife-dataset                                      Knife Dataset                                         1MB  2020-03-02 06:43:53            136          8  0.8125           \n",
      "imdevskp/sars-outbreak-2003-complete-dataset                SARS 2003 Outbreak Complete Dataset                  10KB  2020-02-26 10:25:22            650         27  1.0              \n",
      "imdevskp/ebola-outbreak-20142016-complete-dataset           Ebola 2014-2016 Outbreak Complete Dataset           101KB  2020-02-26 14:36:31            739         33  1.0              \n",
      "gpiosenka/100-bird-species                                  130 Bird Species                                    899MB  2020-03-08 23:01:45            365         34  0.6875           \n",
      "umangjpatel/pap-smear-datasets                              Pap Smear Datasets                                    6GB  2020-03-07 11:04:23             91          9  0.875            \n",
      "jessemostipak/hotel-booking-demand                          Hotel booking demand                                  1MB  2020-02-13 01:27:20           7259        333  1.0              \n",
      "tunguz/big-five-personality-test                            Big Five Personality Test                           159MB  2020-02-17 15:59:37           2145        161  0.9705882        \n",
      "arindam235/startup-investments-crunchbase                   StartUp Investments (Crunchbase)                      3MB  2020-02-17 21:54:42           1704        106  0.88235295       \n",
      "brendaso/2019-coronavirus-dataset-01212020-01262020         2019 Coronavirus dataset (January - February 2020)   53KB  2020-02-06 18:09:28           7602        395  0.7352941        \n",
      "jamzing/sars-coronavirus-accession                          SARS CORONAVIRUS ACCESSION                            2MB  2020-02-18 15:49:34           2107        111  0.9411765        \n",
      "timoboz/data-science-cheat-sheets                           Data Science Cheat Sheets                           596MB  2020-02-04 19:42:27           3730        240  0.875            \n",
      "brandenciranni/democratic-debate-transcripts-2020           Democratic Debate Transcripts 2020                  565KB  2020-02-27 00:07:40            536         51  1.0              \n"
     ]
    }
   ],
   "source": [
    "! kaggle datasets list"
   ]
  },
  {
   "cell_type": "markdown",
   "metadata": {},
   "source": [
    "## Download the Data"
   ]
  },
  {
   "cell_type": "markdown",
   "metadata": {},
   "source": [
    "![](my_images/kaggle_ddd_data.png)"
   ]
  },
  {
   "cell_type": "markdown",
   "metadata": {
    "colab_type": "text",
    "id": "xSklVR1RZ4HQ"
   },
   "source": [
    "Now we can download data from Kaggle. As an example I chose the [distracted driver detection dataset](https://www.kaggle.com/c/state-farm-distracted-driver-detection). It has the following URL:"
   ]
  },
  {
   "cell_type": "markdown",
   "metadata": {},
   "source": [
    "`https://www.kaggle.com/c/state-farm-distracted-driver-detection`"
   ]
  },
  {
   "cell_type": "markdown",
   "metadata": {},
   "source": [
    "The name of the dataset is the last part of that URL: `state-farm-distracted-driver-detection`. We need the name for the command to download the data, which is shown in the following."
   ]
  },
  {
   "cell_type": "code",
   "execution_count": 10,
   "metadata": {
    "colab": {
     "base_uri": "https://localhost:8080/",
     "height": 68
    },
    "colab_type": "code",
    "id": "CIG6gKDoW_FQ",
    "outputId": "a7dc228b-7173-4cd5-f826-4e3d875c9d72"
   },
   "outputs": [
    {
     "name": "stdout",
     "output_type": "stream",
     "text": [
      "Downloading state-farm-distracted-driver-detection.zip to /content\n",
      "100% 3.99G/4.00G [00:51<00:00, 55.9MB/s]\n",
      "100% 4.00G/4.00G [00:51<00:00, 83.9MB/s]\n"
     ]
    }
   ],
   "source": [
    "! kaggle competitions download -c state-farm-distracted-driver-detection"
   ]
  },
  {
   "cell_type": "markdown",
   "metadata": {
    "colab_type": "text",
    "id": "bOO_ceZ2fo22"
   },
   "source": [
    "A `state-farm-distracted-driver-detection.zip` should have been downloaded. Next let's create a folder in our Google Drive in which we want to put the data. The following path already existed in my Google Drive from previous projects: `/content/gdrive/ My Drive/fastai-v3/data`. I decided to store the distracted driver detection dataset under this data folder as well. However, you can put the data where ever you want as long as it is in your Google Drive."
   ]
  },
  {
   "cell_type": "code",
   "execution_count": 11,
   "metadata": {
    "colab": {},
    "colab_type": "code",
    "id": "gbQ6DyBFdN8s"
   },
   "outputs": [],
   "source": [
    "! mkdir /content/gdrive/My\\ Drive/fastai-v3/data/state-farm-ddd"
   ]
  },
  {
   "cell_type": "markdown",
   "metadata": {},
   "source": [
    "Move the zip file to the created folder."
   ]
  },
  {
   "cell_type": "code",
   "execution_count": 12,
   "metadata": {
    "colab": {},
    "colab_type": "code",
    "id": "ivEBVaer9gYD"
   },
   "outputs": [],
   "source": [
    "! mv state-farm-distracted-driver-detection.zip /content/gdrive/My\\ Drive/fastai-v3/data/state-farm-ddd"
   ]
  },
  {
   "cell_type": "markdown",
   "metadata": {
    "colab_type": "text",
    "id": "3yP0mx8Lf8eS"
   },
   "source": [
    "Go to that folder. `!cd` did not work for me here but `%cd` did (you can read about it [here](https://stackoverflow.com/questions/48298146/changing-directory-in-google-colab-breaking-out-of-the-python-interpreter))."
   ]
  },
  {
   "cell_type": "code",
   "execution_count": 13,
   "metadata": {
    "colab": {
     "base_uri": "https://localhost:8080/",
     "height": 34
    },
    "colab_type": "code",
    "id": "7LshJGYH91FV",
    "outputId": "955c60b8-910b-408c-b673-ddb8266ce4b2"
   },
   "outputs": [
    {
     "name": "stdout",
     "output_type": "stream",
     "text": [
      "/content/gdrive/My Drive/fastai-v3/data/state-farm-ddd\n"
     ]
    }
   ],
   "source": [
    "%cd /content/gdrive/My\\ Drive/fastai-v3/data/state-farm-ddd"
   ]
  },
  {
   "cell_type": "markdown",
   "metadata": {},
   "source": [
    "Make sure we are in the correct folder."
   ]
  },
  {
   "cell_type": "code",
   "execution_count": 14,
   "metadata": {
    "colab": {
     "base_uri": "https://localhost:8080/",
     "height": 34
    },
    "colab_type": "code",
    "id": "OpBq7Iop95Id",
    "outputId": "14453749-7ca1-4991-a45c-31ab7e5a5f95"
   },
   "outputs": [
    {
     "name": "stdout",
     "output_type": "stream",
     "text": [
      "/content/gdrive/My Drive/fastai-v3/data/state-farm-ddd\n"
     ]
    }
   ],
   "source": [
    "! pwd"
   ]
  },
  {
   "cell_type": "markdown",
   "metadata": {},
   "source": [
    "Now unzip the data in that folder."
   ]
  },
  {
   "cell_type": "code",
   "execution_count": 15,
   "metadata": {
    "colab": {
     "base_uri": "https://localhost:8080/",
     "height": 1000
    },
    "colab_type": "code",
    "id": "Ha1-Ajypf4hE",
    "outputId": "19938cff-59b3-4246-b06c-22772ebc0d7e"
   },
   "outputs": [
    {
     "name": "stdout",
     "output_type": "stream",
     "text": [
      "\u001b[1;30;43mStreaming output truncated to the last 5 lines.\u001b[0m\n",
      "  inflating: ./imgs/train/c9/img_99801.jpg  \n",
      "  inflating: ./imgs/train/c9/img_99927.jpg  \n",
      "  inflating: ./imgs/train/c9/img_9993.jpg  \n",
      "  inflating: ./imgs/train/c9/img_99949.jpg  \n",
      "  inflating: ./sample_submission.csv  \n"
     ]
    }
   ],
   "source": [
    "! unzip state-farm-distracted-driver-detection.zip -d ."
   ]
  },
  {
   "cell_type": "markdown",
   "metadata": {},
   "source": [
    "The data should be there now. However, it happened to me that it was actually not immediately there after the unzipping finished. Apparently, Google Drive sometimes needs some time until the files are available. So, we do not need to do anything. We just need to wait. To check if all the files are there we should go to Google Drive from time to time and look into the folder. When I tried it, the `sample_submission.csv` file was always the last file. So, when this file was there, I knew all the files were there. It is important to check this directly in Google Drive and not in the folder view in Google Colab, because Google Colab seems to show the files although Google Drive does not have them yet."
   ]
  },
  {
   "cell_type": "markdown",
   "metadata": {},
   "source": [
    "> Note: You probably need to wait until all the files are available in Google Drive."
   ]
  },
  {
   "cell_type": "markdown",
   "metadata": {},
   "source": [
    "![](my_images/gdrive_kaggle_ddd_data_download.png)"
   ]
  },
  {
   "cell_type": "markdown",
   "metadata": {},
   "source": [
    "When all the files are there, we can remove the zip file."
   ]
  },
  {
   "cell_type": "code",
   "execution_count": 16,
   "metadata": {
    "colab": {},
    "colab_type": "code",
    "id": "KNbpTaGRgHmz"
   },
   "outputs": [],
   "source": [
    "! rm state-farm-distracted-driver-detection.zip"
   ]
  },
  {
   "cell_type": "markdown",
   "metadata": {},
   "source": [
    "And we are finished!"
   ]
  },
  {
   "cell_type": "code",
   "execution_count": null,
   "metadata": {},
   "outputs": [],
   "source": []
  }
 ],
 "metadata": {
  "colab": {
   "collapsed_sections": [],
   "name": "kaggle-dataset-download.ipynb",
   "provenance": []
  },
  "kernelspec": {
   "display_name": "Python 3",
   "language": "python",
   "name": "python3"
  },
  "language_info": {
   "codemirror_mode": {
    "name": "ipython",
    "version": 3
   },
   "file_extension": ".py",
   "mimetype": "text/x-python",
   "name": "python",
   "nbconvert_exporter": "python",
   "pygments_lexer": "ipython3",
   "version": "3.7.9"
  },
  "toc": {
   "base_numbering": 1,
   "nav_menu": {},
   "number_sections": true,
   "sideBar": true,
   "skip_h1_title": false,
   "title_cell": "Table of Contents",
   "title_sidebar": "Contents",
   "toc_cell": false,
   "toc_position": {},
   "toc_section_display": true,
   "toc_window_display": false
  },
  "varInspector": {
   "cols": {
    "lenName": 16,
    "lenType": 16,
    "lenVar": 40
   },
   "kernels_config": {
    "python": {
     "delete_cmd_postfix": "",
     "delete_cmd_prefix": "del ",
     "library": "var_list.py",
     "varRefreshCmd": "print(var_dic_list())"
    },
    "r": {
     "delete_cmd_postfix": ") ",
     "delete_cmd_prefix": "rm(",
     "library": "var_list.r",
     "varRefreshCmd": "cat(var_dic_list()) "
    }
   },
   "types_to_exclude": [
    "module",
    "function",
    "builtin_function_or_method",
    "instance",
    "_Feature"
   ],
   "window_display": false
  }
 },
 "nbformat": 4,
 "nbformat_minor": 1
}
